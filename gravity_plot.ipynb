{
 "cells": [
  {
   "cell_type": "code",
   "execution_count": 26,
   "metadata": {},
   "outputs": [],
   "source": [
    "import pickle\n",
    "import pandas as pd\n",
    "import numpy as np\n",
    "from scipy.optimize import curve_fit\n",
    "from itertools import product\n",
    "from tqdm import tqdm\n",
    "import json\n",
    "\n",
    "import matplotlib.pyplot as plt\n",
    "%matplotlib inline"
   ]
  },
  {
   "cell_type": "code",
   "execution_count": null,
   "metadata": {},
   "outputs": [],
   "source": [
    "plt.rcParams['font.size'] = 18"
   ]
  },
  {
   "cell_type": "code",
   "execution_count": 7,
   "metadata": {},
   "outputs": [],
   "source": [
    "# reading in byte-saved variables created by preferences.py that are the same for each run\n",
    "with open('adjacency.pickle', 'rb') as f:\n",
    "    # A is the adjacency matrix\n",
    "    # indexmap maps user_ids to the row indices of A\n",
    "    # indexmap_back maps row indices of A to user_ids\n",
    "    # seed is a boolean vector of the initial infected nodes\n",
    "    A, indexmap, indexmap_back, seed = pickle.load(f)"
   ]
  },
  {
   "cell_type": "code",
   "execution_count": 8,
   "metadata": {},
   "outputs": [
    {
     "data": {
      "text/html": [
       "<div>\n",
       "<style scoped>\n",
       "    .dataframe tbody tr th:only-of-type {\n",
       "        vertical-align: middle;\n",
       "    }\n",
       "\n",
       "    .dataframe tbody tr th {\n",
       "        vertical-align: top;\n",
       "    }\n",
       "\n",
       "    .dataframe thead th {\n",
       "        text-align: right;\n",
       "    }\n",
       "</style>\n",
       "<table border=\"1\" class=\"dataframe\">\n",
       "  <thead>\n",
       "    <tr style=\"text-align: right;\">\n",
       "      <th></th>\n",
       "      <th>id</th>\n",
       "      <th>comm_mem</th>\n",
       "      <th>cityid</th>\n",
       "      <th>month</th>\n",
       "      <th>node_id</th>\n",
       "      <th>ABM1</th>\n",
       "      <th>ABM2</th>\n",
       "    </tr>\n",
       "    <tr>\n",
       "      <th>new_id</th>\n",
       "      <th></th>\n",
       "      <th></th>\n",
       "      <th></th>\n",
       "      <th></th>\n",
       "      <th></th>\n",
       "      <th></th>\n",
       "      <th></th>\n",
       "    </tr>\n",
       "  </thead>\n",
       "  <tbody>\n",
       "    <tr>\n",
       "      <th>24550</th>\n",
       "      <td>72367576</td>\n",
       "      <td>55</td>\n",
       "      <td>78567</td>\n",
       "      <td>78.0</td>\n",
       "      <td>72367576</td>\n",
       "      <td>96.0</td>\n",
       "      <td>55.0</td>\n",
       "    </tr>\n",
       "    <tr>\n",
       "      <th>68</th>\n",
       "      <td>64248926</td>\n",
       "      <td>55</td>\n",
       "      <td>379</td>\n",
       "      <td>120.0</td>\n",
       "      <td>64248926</td>\n",
       "      <td>77.0</td>\n",
       "      <td>81.0</td>\n",
       "    </tr>\n",
       "    <tr>\n",
       "      <th>23282</th>\n",
       "      <td>70127822</td>\n",
       "      <td>218</td>\n",
       "      <td>46758</td>\n",
       "      <td>94.0</td>\n",
       "      <td>70127822</td>\n",
       "      <td>69.0</td>\n",
       "      <td>65.0</td>\n",
       "    </tr>\n",
       "    <tr>\n",
       "      <th>39036</th>\n",
       "      <td>71295318</td>\n",
       "      <td>167</td>\n",
       "      <td>393</td>\n",
       "      <td>84.0</td>\n",
       "      <td>71295318</td>\n",
       "      <td>53.0</td>\n",
       "      <td>71.0</td>\n",
       "    </tr>\n",
       "    <tr>\n",
       "      <th>22556</th>\n",
       "      <td>71889448</td>\n",
       "      <td>55</td>\n",
       "      <td>13943</td>\n",
       "      <td>80.0</td>\n",
       "      <td>71889448</td>\n",
       "      <td>49.0</td>\n",
       "      <td>72.0</td>\n",
       "    </tr>\n",
       "  </tbody>\n",
       "</table>\n",
       "</div>"
      ],
      "text/plain": [
       "              id  comm_mem  cityid  month   node_id  ABM1  ABM2\n",
       "new_id                                                         \n",
       "24550   72367576        55   78567   78.0  72367576  96.0  55.0\n",
       "68      64248926        55     379  120.0  64248926  77.0  81.0\n",
       "23282   70127822       218   46758   94.0  70127822  69.0  65.0\n",
       "39036   71295318       167     393   84.0  71295318  53.0  71.0\n",
       "22556   71889448        55   13943   80.0  71889448  49.0  72.0"
      ]
     },
     "execution_count": 8,
     "metadata": {},
     "output_type": "execute_result"
    }
   ],
   "source": [
    "# adoption times of nodes, index is the adjacency matrix index\n",
    "original_timeline = pd.read_csv('./vertices_fs.csv')\n",
    "abm_timelines = pd.read_csv('adoption_times.csv')\n",
    "timelines = pd.merge(original_timeline,abm_timelines,left_on=\"id\",right_on=\"node_id\")\n",
    "timelines[\"new_id\"] = timelines[\"id\"].map(indexmap)\n",
    "timelines.set_index(\"new_id\",inplace=True)\n",
    "timelines.head()"
   ]
  },
  {
   "cell_type": "code",
   "execution_count": 9,
   "metadata": {},
   "outputs": [],
   "source": [
    "# calculating the adoption category time bins\n",
    "percentile_dict = {}\n",
    "for col in [\"month\",\"ABM1\",\"ABM2\"]:\n",
    "    percentile_dict[col] = np.percentile(timelines[col].dropna(),[0,2.5,16,50,84,100])"
   ]
  },
  {
   "cell_type": "code",
   "execution_count": 10,
   "metadata": {},
   "outputs": [],
   "source": [
    "# getting the adjacency matrix ids of innovators and early adopters\n",
    "categories = {}\n",
    "category_names = {\n",
    "    0: \"innovators\",\n",
    "    1: \"early_adopters\",\n",
    "    2: \"early_majority\",\n",
    "    3: \"late_majority\",\n",
    "    4: \"laggards\"\n",
    "}\n",
    "\n",
    "\n",
    "for i in range(5):\n",
    "    category = category_names[i]\n",
    "    for col in [\"month\",\"ABM1\",\"ABM2\"]:\n",
    "        if category in categories:\n",
    "            categories[category][col] = np.array(list(map(lambda x: indexmap[x],list(timelines[\"id\"][(timelines[col]>=percentile_dict[col][i])&(timelines[col]<percentile_dict[col][i+1])]))))\n",
    "        else:\n",
    "            categories[category] = {}\n",
    "            categories[category][col] = np.array(list(map(lambda x: indexmap[x],list(timelines[\"id\"][(timelines[col]>=percentile_dict[col][i])&(timelines[col]<percentile_dict[col][i+1])]))))"
   ]
  },
  {
   "cell_type": "code",
   "execution_count": 11,
   "metadata": {},
   "outputs": [
    {
     "name": "stdout",
     "output_type": "stream",
     "text": [
      "innovators month 6428\n",
      "innovators ABM1 6776\n",
      "innovators ABM2 6555\n",
      "\n",
      "early_adopters month 32821\n",
      "early_adopters ABM1 36279\n",
      "early_adopters ABM2 34595\n",
      "\n",
      "early_majority month 94511\n",
      "early_majority ABM1 91575\n",
      "early_majority ABM2 90289\n",
      "\n",
      "late_majority month 93013\n",
      "late_majority ABM1 91004\n",
      "late_majority ABM2 92999\n",
      "\n",
      "laggards month 45101\n",
      "laggards ABM1 46079\n",
      "laggards ABM2 47010\n",
      "\n"
     ]
    }
   ],
   "source": [
    "# checking how many users have been sorted into the different categories\n",
    "for k in categories:\n",
    "    for k2 in categories[k]:\n",
    "        print(k,k2,len(categories[k][k2]))\n",
    "    print()"
   ]
  },
  {
   "cell_type": "code",
   "execution_count": 12,
   "metadata": {},
   "outputs": [],
   "source": [
    "# city-city distance matrix\n",
    "citydist = pd.read_csv(\"city_dist.csv\",sep=\";\")\n",
    "citydist[\"tup\"] = citydist.apply(lambda row: (int(row[\"cityid1\"]),int(row[\"cityid2\"])),axis=1)\n",
    "cd = citydist.fillna(0).set_index(\"tup\")[\"distkm\"].to_dict()"
   ]
  },
  {
   "cell_type": "code",
   "execution_count": 13,
   "metadata": {},
   "outputs": [],
   "source": [
    "# creating dicts for faster access by user_id\n",
    "cities = timelines[\"cityid\"].to_dict()\n",
    "\n",
    "# creating set from edgelist for fast containment checks\n",
    "elist_set = set(list(zip(*A.nonzero())))"
   ]
  },
  {
   "cell_type": "code",
   "execution_count": null,
   "metadata": {},
   "outputs": [],
   "source": [
    "# dumping output\n",
    "output = \"gravity_res_big.json\"\n",
    "# clear file (it should be more sophisticated!)\n",
    "open(output,\"w\").close()\n",
    "\n",
    "for col in [\"month\",\"ABM1\",\"ABM2\"]:\n",
    "    for cat in [category_names[i] for i in range(5)]:\n",
    "        print(col,cat)\n",
    "        gravity_dict={}\n",
    "        def attr(e,b=10):\n",
    "            global gravity_dict\n",
    "            if e[0]<e[1]:\n",
    "                edge=int(e in elist_set)\n",
    "                d=cd[(cities[e[0]],cities[e[1]])]\n",
    "                d_trunc = int(d/b)*b\n",
    "                if d_trunc in gravity_dict:\n",
    "                    gravity_dict[d_trunc][edge]+=1\n",
    "                else:\n",
    "                    gravity_dict[d_trunc] = {edge: 1, int(not edge):0}\n",
    "        total_pairs = len(categories[cat][col])**2\n",
    "        for i,e in enumerate(product(categories[cat][col],categories[cat][col])):\n",
    "            attr(e)\n",
    "            if i%1000000==0:\n",
    "                print(str(round(100*i/total_pairs,2))+'%',end=\", \")\n",
    "        \n",
    "        # writing calculated output\n",
    "        print(\"Dumping gravity data row.\")\n",
    "        f = open(output,\"a\")\n",
    "        f.write(json.dumps({\"data_source\":col,\"category\":cat,\"gravity_dict\":gravity_dict}))\n",
    "        f.write(\"\\n\")\n",
    "        f.close()\n",
    "        print()"
   ]
  },
  {
   "cell_type": "code",
   "execution_count": 57,
   "metadata": {},
   "outputs": [],
   "source": [
    "# exporting gravity plot data for Balazs\n",
    "d = []\n",
    "for col in pd.DataFrame(gravity_res):\n",
    "    d.append(pd.DataFrame(gravity_res)[col].map(lambda d: d[1]/(d[1]+d[0])))\n",
    "d = pd.DataFrame(d).T\n",
    "d.index = pd.DataFrame(gravity_res).index\n",
    "d.reset_index().rename({\"index\":\"d\",\"month\":\"data\"},axis=1).to_csv(\"gravity_plot.csv\",index=False)"
   ]
  },
  {
   "cell_type": "code",
   "execution_count": 62,
   "metadata": {},
   "outputs": [
    {
     "name": "stderr",
     "output_type": "stream",
     "text": [
      "/home/ubuntu/anaconda3/lib/python3.7/site-packages/ipykernel_launcher.py:10: RuntimeWarning: divide by zero encountered in log\n",
      "  # Remove the CWD from sys.path while we load stuff.\n",
      "/home/ubuntu/anaconda3/lib/python3.7/site-packages/ipykernel_launcher.py:16: RuntimeWarning: divide by zero encountered in log\n",
      "  app.launch_new_instance()\n"
     ]
    },
    {
     "data": {
      "image/png": "[encoded data removed]",
      "text/plain": [
       "<Figure size 720x504 with 1 Axes>"
      ]
     },
     "metadata": {
      "needs_background": "light"
     },
     "output_type": "display_data"
    }
   ],
   "source": [
    "# gravity plots of selected categories\n",
    "plt.figure(figsize=(10,7))\n",
    "\n",
    "for col,marker,line,color in zip(gravity_res.keys(),['o','s','d'],['-','-','-'],['darkred','orange','blue']):\n",
    "    res = {k: gravity_res[col][k][1] / (gravity_res[col][k][0] + gravity_res[col][k][1]) for k in gravity_res[col]}\n",
    "    x = np.array([k for k in res])\n",
    "    y = np.array([res[k] for k in res])\n",
    "    def f(x,a,b):\n",
    "        return a*x+b\n",
    "    m = (x>30)&(x<300)\n",
    "    p,pcov = curve_fit(f,np.log(x)[m],np.log(y)[m])\n",
    "    plt.plot(x,y,marker,color=color)\n",
    "    if col==\"month\":\n",
    "        label=\"data\"\n",
    "    else:\n",
    "        label=col\n",
    "    plt.plot(x[m],np.exp(f(np.log(x)[m],*p)),line,color=color,label=label+r\", $\\beta=%.2f$\" % p[0])\n",
    "plt.loglog()\n",
    "plt.legend()\n",
    "plt.grid()\n",
    "plt.xlabel(\"Distance (km)\")\n",
    "plt.ylabel(r\"$p_{edge}$\")\n",
    "plt.savefig(\"gravity_plots.png\",density=300)"
   ]
  },
  {
   "cell_type": "markdown",
   "metadata": {},
   "source": [
    "# Data export"
   ]
  },
  {
   "cell_type": "code",
   "execution_count": null,
   "metadata": {},
   "outputs": [],
   "source": [
    "d = []\n",
    "with open(\"gravity_res_big_formatted.json\") as f:\n",
    "    for line in f:\n",
    "        d.append(json.loads(line.strip(\"\\n\")))\n",
    "\n",
    "df = pd.DataFrame.from_dict(d)\n",
    "\n",
    "def data_series(d,t):\n",
    "    temp = []\n",
    "    for k in d:\n",
    "        temp.append((float(k),d[k]['1']/d[k]['0']))\n",
    "    return pd.DataFrame(temp).rename({1:t},axis=1).set_index(0)\n",
    "\n",
    "for key in [\"month\",\"ABM1\",\"ABM2\"]:\n",
    "    pd.concat(df[df.data_source == key]\\\n",
    "        .apply(lambda row: data_series(row[\"gravity_dict\"],row[\"category\"]),axis=1)\\\n",
    "        .to_list(),axis=1)\\\n",
    "        .fillna(0)\\\n",
    "        .reset_index()\\\n",
    "        .rename({0:\"d_km\"},axis=1)\\\n",
    "        .to_csv(\"gravity_plot_\"+key+\".csv\")"
   ]
  }
 ],
 "metadata": {
  "kernelspec": {
   "display_name": "Python 3",
   "language": "python",
   "name": "python3"
  },
  "language_info": {
   "codemirror_mode": {
    "name": "ipython",
    "version": 3
   },
   "file_extension": ".py",
   "mimetype": "text/x-python",
   "name": "python",
   "nbconvert_exporter": "python",
   "pygments_lexer": "ipython3",
   "version": "3.7.1"
  }
 },
 "nbformat": 4,
 "nbformat_minor": 2
}
